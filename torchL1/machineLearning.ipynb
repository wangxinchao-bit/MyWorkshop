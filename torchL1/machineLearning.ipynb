{
 "cells": [
  {
   "cell_type": "markdown",
   "metadata": {},
   "source": [
    "# 1、数据的类型\n",
    "\n",
    "## NumPy 矩阵和数组的区别\n",
    "    NumPy存在2中不同的数据类型:\n",
    "        1. 矩阵 matrix\n",
    "        2. 数组 array\n",
    "    相似点: \n",
    "        都可以处理行列表示的数字元素\n",
    "    不同点: \n",
    "        1. 2个数据类型上执行相同的数据运算可能得到不同的结果。\n",
    "        2. NumPy函数库中的 matrix 与 MATLAB中 matrices 等价。\n",
    "   "
   ]
  }
 ],
 "metadata": {
  "kernelspec": {
   "display_name": "Python 3.10.7 64-bit",
   "language": "python",
   "name": "python3"
  },
  "language_info": {
   "codemirror_mode": {
    "name": "ipython",
    "version": 3
   },
   "file_extension": ".py",
   "mimetype": "text/x-python",
   "name": "python",
   "nbconvert_exporter": "python",
   "pygments_lexer": "ipython3",
   "version": "3.10.7"
  },
  "orig_nbformat": 4,
  "vscode": {
   "interpreter": {
    "hash": "7d6ae86bb449849c2b860570a3bc2ec25106341cde3d7a5c64988463214cd426"
   }
  }
 },
 "nbformat": 4,
 "nbformat_minor": 2
}
