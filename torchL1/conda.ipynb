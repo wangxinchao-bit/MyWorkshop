{
 "cells": [
  {
   "cell_type": "markdown",
   "metadata": {},
   "source": [
    "# 1、conda |"
   ]
  },
  {
   "cell_type": "markdown",
   "metadata": {},
   "source": [
    "## 1、Conda 命令"
   ]
  },
  {
   "cell_type": "markdown",
   "metadata": {},
   "source": [
    "\n",
    "\n",
    "* 创建新的Conda环境\n",
    "* 在现有的Conda环境中安装/升级包\n",
    "* 查询/搜索 Anaconda 包的索引和当前Anaconda 的安装\n",
    "\n",
    "我们可以使用-- 两个短线的常用命令进行缩写(但是并不是所有的都是可以缩写的)\n",
    "\n",
    "eg: \n",
    "\n",
    "　　--name 可以缩写成 -n，--envs 可以缩写成 -e"
   ]
  },
  {
   "cell_type": "markdown",
   "metadata": {},
   "source": [
    "## 2、常用的[Anaconda 命令](https://blog.csdn.net/raelum/article/details/125109819)"
   ]
  },
  {
   "cell_type": "markdown",
   "metadata": {},
   "source": [
    "\n",
    "conda -h\n",
    "\n",
    "conda install -h \n",
    "\n",
    "<!-- 查看所以的信息 不常用 -->\n",
    "conda info -a -all \n",
    "<!-- 查看基环境所在路径 -->\n",
    "conda info --base\n",
    "<!-- 列出当前所有的conda环境 -->\n",
    "conda info -e \n",
    "\n",
    "<!--Conda 创建环境、激活环境和退出环境  -->\n",
    "conda create [-n env_name | -p path] [--clone env_name] [-channel_address] [packages]\n",
    "\n",
    "\n",
    "conda  create　-n my_env \n",
    "conda activate my_env \n",
    "conda deactivate "
   ]
  },
  {
   "cell_type": "markdown",
   "metadata": {},
   "source": [
    "\n",
    "\n",
    "指定路径创建开发环境：\n",
    "\n",
    "1、conda create -n my_env -p G:\\anaconda3\\envs\\my_env \n",
    "\n",
    "2、conda create -n new_env --clone original_env\n",
    "\n",
    "    conda create -n new_env --clone G:\\anaconda3\\envs\\original_env\n",
    "\n",
    "在创建环境的过程中指定需要安装的包：\n",
    "\n",
    "* conda create -n my_env python numpy flask\n",
    "\n",
    "<!-- 指定安装包的版本 -->\n",
    "conda create -n my_env python=3.9.7 numpy flask\n",
    "\n",
    "\n",
    "* conda install \n",
    "\n",
    "* conda install 可以用来在conda环境中安装相应的包\n",
    "\n",
    "* conda install [-n env_name | -p path] [-c channel_address] [packages]\n",
    "\n",
    "在已经安装的conda环境安装指定包\n",
    "\n",
    "* conda activate my_env\n",
    "\n",
    "* conda install python=3.9.7  可以模糊解释\n",
    "\n",
    "直接指定环境进行安装\n",
    "\n",
    "* conda install -n my_env python=3.9.7 # 根据名称\n",
    "* conda install -p G:\\anaconda3\\envs\\my_env python=3.9.7 # 根据地址"
   ]
  },
  {
   "cell_type": "markdown",
   "metadata": {},
   "source": [
    "## 3、其余命令行需要查看链接或者执行百度、CSDN"
   ]
  }
 ],
 "metadata": {
  "kernelspec": {
   "display_name": "Python 3.8.8 ('base')",
   "language": "python",
   "name": "python3"
  },
  "language_info": {
   "codemirror_mode": {
    "name": "ipython",
    "version": 3
   },
   "file_extension": ".py",
   "mimetype": "text/x-python",
   "name": "python",
   "nbconvert_exporter": "python",
   "pygments_lexer": "ipython3",
   "version": "3.8.8"
  },
  "orig_nbformat": 4,
  "vscode": {
   "interpreter": {
    "hash": "2f70601996b01c6eb5751650076ee20d7b2fce1532b1684dc391acc2c13f7eac"
   }
  }
 },
 "nbformat": 4,
 "nbformat_minor": 2
}
