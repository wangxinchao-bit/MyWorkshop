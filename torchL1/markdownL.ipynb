{
 "cells": [
  {
   "cell_type": "markdown",
   "metadata": {},
   "source": [
    "# makedown 教程网站<br>\n",
    "[菜鸟教程](https://www.runoob.com/markdown/md-tutorial.html)<br>\n",
    "[ Markdown 指南中文版](https://www.markdown.xyz/basic-syntax/)<br>"
   ]
  },
  {
   "cell_type": "markdown",
   "metadata": {},
   "source": [
    "# heading \n",
    "# 一级标题\n",
    "## 二级标题\n",
    "### 三级标题\n",
    "#### 四级标题\n",
    "#####  五级标题\n",
    "\n",
    "一级标题\n",
    "================\n",
    "二级标题\n",
    "---------------\n",
    "\n",
    "<p> 段落</p>\n",
    "<br>\n",
    "\n",
    "<strong> 粗体</strong>\n",
    "**粗体**\n",
    "*斜体*\n",
    "\n",
    " ***粗斜体***\n",
    "\n",
    " 分割线\n",
    " 要创建分隔线，请在单独一行上使用三个或多个星号 (***)、破折号 (---) 或下划线 (___) ，并且不能包含其他内容\n",
    " 为了兼容性，请在分隔线的前后均添加空白行\n",
    "\n",
    " ***\n",
    " ---\n",
    " _________________________________\n",
    "\n",
    " ----\n",
    "\n",
    "\n",
    "链接（Links）\n",
    "要创建链接，请将链接文本括在方括号（例如 [Duck Duck Go]）中，后面紧跟着括在圆括号中的 URL（例如 (https://duckduckgo.com) ）。\n",
    "\n",
    "My favorite search engine is [Duck Duck Go](https://duckduckgo.com).\n",
    "\n",
    "[内容](links)\n",
    "\n",
    "鼠标放置在链接上面的时候会有显示信息\n",
    "\n",
    "My favorite search engine is [Duck Duck Go](https://duckduckgo.com \"The best search engine for privacy\").\n",
    "\n",
    "\n",
    "网址和电子邮件地址\n",
    "要将 URL 或电子邮件地址快速转换为链接，请将其括在尖括号中\n",
    "\n",
    "<https://www.markdownguide.org>\n",
    "<fake@example.com>\n",
    "\n",
    "\n",
    "图片(Images)\n",
    "要添加图片，首先请添加感叹号（!），然后紧跟着是方括号，方括号中可添加替代文本（alt text，即图片显示失败后显示此文本），最后跟着圆括号，圆括号中添加图片资源的路径或 URL。你可以选择在圆括号中的 URL 之后添加标题（即 title 属性）。\n",
    "\n",
    "![The San Juan Mountains are beautiful!](/assets/images/san-juan-mountains.jpg \"San Juan Mountains\")\n",
    "\n",
    "带链接的图片\n",
    "要为图片添加链接，请先为图片的 Markdown 标记添加一个方括号，然后紧跟着一个圆括号，并在圆括号中添加链接地址\n",
    "[![An old rock in the desert](/assets/images/shiprock.jpg \"Shiprock, New Mexico by Beau Rogers\")](https://www.flickr.com/photos/beaurogers/31833779864/in/photolist-Qv3rFw-34mt9F-a9Cmfy-5Ha3Zi-9msKdv-o3hgjr-hWpUte-4WMsJ1-KUQ8N-deshUb-vssBD-6CQci6-8AFCiD-zsJWT-nNfsgB-dPDwZJ-bn9JGn-5HtSXY-6CUhAL-a4UTXB-ugPum-KUPSo-fBLNm-6CUmpy-4WMsc9-8a7D3T-83KJev-6CQ2bK-nNusHJ-a78rQH-nw3NvT-7aq2qf-8wwBso-3nNceh-ugSKP-4mh4kh-bbeeqH-a7biME-q3PtTf-brFpgb-cg38zw-bXMZc-nJPELD-f58Lmo-bXMYG-bz8AAi-bxNtNT-bXMYi-bXMY6-bXMYv)\n",
    "\n",
    "\n",
    "\n"
   ]
  },
  {
   "cell_type": "markdown",
   "metadata": {},
   "source": []
  },
  {
   "cell_type": "markdown",
   "metadata": {},
   "source": []
  }
 ],
 "metadata": {
  "kernelspec": {
   "display_name": "Python 3.10.7 64-bit",
   "language": "python",
   "name": "python3"
  },
  "language_info": {
   "name": "python",
   "version": "3.10.7"
  },
  "orig_nbformat": 4,
  "vscode": {
   "interpreter": {
    "hash": "7d6ae86bb449849c2b860570a3bc2ec25106341cde3d7a5c64988463214cd426"
   }
  }
 },
 "nbformat": 4,
 "nbformat_minor": 2
}
