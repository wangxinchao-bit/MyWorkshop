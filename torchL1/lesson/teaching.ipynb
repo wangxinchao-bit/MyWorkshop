{
 "cells": [
  {
   "cell_type": "markdown",
   "metadata": {},
   "source": [
    "# 机器学习课程9.29lesson"
   ]
  },
  {
   "cell_type": "markdown",
   "metadata": {},
   "source": [
    "常用的Python 开发环境： \n",
    "___\n",
    "    1、Jupyter  Notebook  jupyter lab\n",
    "                          google lab \n",
    "    2、Anaconda\n",
    "            环境和包管理的软件\n",
    "\n",
    "    3、IDE 集成开发环境\n",
    "\n",
    "        pycharm\n",
    "        vscode \n",
    "        Sublime Text \n",
    "\n",
    "        不需要重复的加载文件，路我们训练文件，我们可以节省大量的时间，可以保存中间运算的结果信息\n",
    "\n"
   ]
  },
  {
   "cell_type": "markdown",
   "metadata": {},
   "source": []
  },
  {
   "cell_type": "markdown",
   "metadata": {},
   "source": [
    "## 1、python 相关知识简介"
   ]
  },
  {
   "cell_type": "markdown",
   "metadata": {},
   "source": []
  },
  {
   "cell_type": "markdown",
   "metadata": {},
   "source": [
    "## 2、Python用于数据分析"
   ]
  },
  {
   "cell_type": "markdown",
   "metadata": {},
   "source": [
    "### 1、Numpy && Pandas&& matplotlib "
   ]
  },
  {
   "cell_type": "code",
   "execution_count": 2,
   "metadata": {},
   "outputs": [],
   "source": [
    "import numpy as np \n",
    "import pandas as pd \n",
    "import matplotlib.pyplot as plt "
   ]
  },
  {
   "cell_type": "code",
   "execution_count": 4,
   "metadata": {},
   "outputs": [],
   "source": [
    "apple = pd.read_csv('./data/stock_apple.csv')\n",
    "microsoft = pd.read_csv('./data/stock_microsoft.csv')\n",
    "tesla = pd.read_csv('./data/stock_tesla.csv')"
   ]
  },
  {
   "cell_type": "code",
   "execution_count": 5,
   "metadata": {},
   "outputs": [
    {
     "name": "stdout",
     "output_type": "stream",
     "text": [
      "(345, 13)\n",
      "(345, 13)\n",
      "(345, 13)\n"
     ]
    }
   ],
   "source": [
    "print(apple.shape)\n",
    "print(microsoft.shape)\n",
    "print(tesla.shape)"
   ]
  },
  {
   "cell_type": "markdown",
   "metadata": {},
   "source": [
    "## 3、"
   ]
  },
  {
   "cell_type": "markdown",
   "metadata": {},
   "source": []
  },
  {
   "cell_type": "markdown",
   "metadata": {},
   "source": [
    "## 4、"
   ]
  },
  {
   "cell_type": "markdown",
   "metadata": {},
   "source": []
  },
  {
   "cell_type": "markdown",
   "metadata": {},
   "source": [
    "## 5、"
   ]
  }
 ],
 "metadata": {
  "kernelspec": {
   "display_name": "Python 3.8.8 ('base')",
   "language": "python",
   "name": "python3"
  },
  "language_info": {
   "codemirror_mode": {
    "name": "ipython",
    "version": 3
   },
   "file_extension": ".py",
   "mimetype": "text/x-python",
   "name": "python",
   "nbconvert_exporter": "python",
   "pygments_lexer": "ipython3",
   "version": "3.8.8"
  },
  "orig_nbformat": 4,
  "vscode": {
   "interpreter": {
    "hash": "2f70601996b01c6eb5751650076ee20d7b2fce1532b1684dc391acc2c13f7eac"
   }
  }
 },
 "nbformat": 4,
 "nbformat_minor": 2
}
